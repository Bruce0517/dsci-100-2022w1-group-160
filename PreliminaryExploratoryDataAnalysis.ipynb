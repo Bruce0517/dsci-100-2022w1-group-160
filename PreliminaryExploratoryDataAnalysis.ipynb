{
 "cells": [
  {
   "cell_type": "markdown",
   "id": "a6f5ef40-8fa4-4f18-8d0c-073d104da950",
   "metadata": {},
   "source": [
    "# Preliminary Exploratory Data Analysis"
   ]
  },
  {
   "cell_type": "code",
   "execution_count": null,
   "id": "a1a3eac3-0771-43e3-b3de-7d51ff3e1984",
   "metadata": {},
   "outputs": [
    {
     "name": "stderr",
     "output_type": "stream",
     "text": [
      "── \u001b[1mAttaching packages\u001b[22m ─────────────────────────────────────── tidyverse 1.3.1 ──\n",
      "\n",
      "\u001b[32m✔\u001b[39m \u001b[34mggplot2\u001b[39m 3.3.6     \u001b[32m✔\u001b[39m \u001b[34mpurrr  \u001b[39m 0.3.4\n",
      "\u001b[32m✔\u001b[39m \u001b[34mtibble \u001b[39m 3.1.7     \u001b[32m✔\u001b[39m \u001b[34mdplyr  \u001b[39m 1.0.9\n",
      "\u001b[32m✔\u001b[39m \u001b[34mtidyr  \u001b[39m 1.2.0     \u001b[32m✔\u001b[39m \u001b[34mstringr\u001b[39m 1.4.0\n",
      "\u001b[32m✔\u001b[39m \u001b[34mreadr  \u001b[39m 2.1.2     \u001b[32m✔\u001b[39m \u001b[34mforcats\u001b[39m 0.5.1\n",
      "\n",
      "── \u001b[1mConflicts\u001b[22m ────────────────────────────────────────── tidyverse_conflicts() ──\n",
      "\u001b[31m✖\u001b[39m \u001b[34mdplyr\u001b[39m::\u001b[32mfilter()\u001b[39m masks \u001b[34mstats\u001b[39m::filter()\n",
      "\u001b[31m✖\u001b[39m \u001b[34mdplyr\u001b[39m::\u001b[32mlag()\u001b[39m    masks \u001b[34mstats\u001b[39m::lag()\n",
      "\n"
     ]
    }
   ],
   "source": [
    "library(tidyverse)\n",
    "library(tidymodels)"
   ]
  },
  {
   "cell_type": "markdown",
   "id": "9c4af068-c33b-4704-ad2a-c65a5a72d79a",
   "metadata": {},
   "source": [
    "The dataset can be read from the web to R as follows:"
   ]
  },
  {
   "cell_type": "code",
   "execution_count": null,
   "id": "d4ddbd0c-c041-473a-90b8-4c78756a0389",
   "metadata": {},
   "outputs": [],
   "source": [
    "htru_data <- read_csv(\n",
    "    \"https://github.com/Bruce0517/dsci-100-2022w1-group-160/raw/main/HTRU_2.csv\", \n",
    "    col_names = c(\"p.mean\", \"p.sd\", \"p.kurt\", \"p.skew\",\n",
    "                  \"c.mean\", \"c.sd\", \"c.kurt\", \"c.skew\", \"class\"))"
   ]
  },
  {
   "cell_type": "markdown",
   "id": "4fa8a473-613a-4571-8ad2-3c7355f80a7b",
   "metadata": {},
   "source": [
    "The data seems to describe some kind of distribution describing the data gathered from pulsar candidates. 0 means the candidate is not a pulsar, wihle 1 means the candidate is a pulsar. Here is a sample of some non-pulsars:"
   ]
  },
  {
   "cell_type": "code",
   "execution_count": null,
   "id": "3ee3de32-9830-480e-9216-8735f1ddd450",
   "metadata": {},
   "outputs": [],
   "source": [
    "set.seed(69420)\n",
    "sample_n(filter(htru_data, class == 0), 3)"
   ]
  },
  {
   "cell_type": "markdown",
   "id": "d3b953f7-a576-49bd-ae48-350b411a634f",
   "metadata": {},
   "source": [
    "And here is a sample of some pulsars:"
   ]
  },
  {
   "cell_type": "code",
   "execution_count": null,
   "id": "264709ad-ec42-4221-aa29-0159503efa7d",
   "metadata": {},
   "outputs": [],
   "source": [
    "set.seed(69420)\n",
    "sample_n(filter(htru_data, class == 1), 3)"
   ]
  },
  {
   "cell_type": "markdown",
   "id": "a2e87d89-46e0-43d2-bf7e-04fd67bb7ddd",
   "metadata": {},
   "source": [
    "Then, we shall separate the data into training and testing sets:"
   ]
  },
  {
   "cell_type": "code",
   "execution_count": null,
   "id": "c0f0126f-de2c-4cf5-af39-c67d23ef5497",
   "metadata": {},
   "outputs": [],
   "source": [
    "set.seed(69420)\n",
    "\n",
    "htru_split <- initial_split(htru_data, prop = .8, strata = class)  \n",
    "htru_train <- training(htru_split)   \n",
    "htru_test <- testing(htru_split)"
   ]
  },
  {
   "cell_type": "markdown",
   "id": "0883f880-574f-4f41-b47b-3059d3f6f684",
   "metadata": {},
   "source": [
    "Here is the number of members of each class in the training data, as well as the average value they have for each variable:"
   ]
  },
  {
   "cell_type": "code",
   "execution_count": null,
   "id": "7c3b0a4c-283e-4731-83a8-55a3f5d0c55c",
   "metadata": {},
   "outputs": [],
   "source": [
    "htru_train |>\n",
    "    group_by(class) |>\n",
    "    summarize(n = n(), p.mean = mean(p.mean), p.sd = mean(p.sd), p.kurt = mean(p.kurt), p.skew = mean(p.skew),\n",
    "                       c.mean = mean(c.mean), c.sd = mean(c.sd), c.kurt = mean(c.kurt), c.skew = mean(c.skew))"
   ]
  },
  {
   "cell_type": "markdown",
   "id": "0e4ad6f1-237d-408f-a200-25054960bb8b",
   "metadata": {},
   "source": [
    "As you can see, I did not need to include na.rm = TRUE, meaning that none of the rows have missing data. Here is a histogram for each of these values from a sample of 1000 pulsars and 1000 non-pulsars, to compare the distributions of the predictor variables:"
   ]
  },
  {
   "cell_type": "code",
   "execution_count": null,
   "id": "44ecd111-be75-420a-83bf-2d7d896f4459",
   "metadata": {
    "tags": []
   },
   "outputs": [],
   "source": [
    "options(repr.plot.width=12, repr.plot.height=12)\n",
    "set.seed(69420)\n",
    "\n",
    "factor_levels <- c(\"p.mean\", \"p.sd\", \"p.kurt\", \"p.skew\", \"c.mean\", \"c.sd\", \"c.kurt\", \"c.skew\")\n",
    "pulsar_sample <- filter(htru_train, class == 1) |>\n",
    "                     sample_n(1000) |>\n",
    "                     # To plot the data we must first untidy the data\n",
    "                     pivot_longer(-class, names_to = \"preds\", values_to = \"vals\") |>\n",
    "                     mutate(preds = factor(preds, levels = factor_levels))\n",
    "non_pulsar_sample <- filter(htru_train, class == 0) |>\n",
    "                     sample_n(1000) |>\n",
    "                     # To plot the data we must first untidy the data\n",
    "                     pivot_longer(-class, names_to = \"preds\", values_to = \"vals\") |> \n",
    "                     mutate(preds = factor(preds, levels = factor_levels))\n",
    "histo_data <- bind_rows(pulsar_sample, non_pulsar_sample)\n",
    "facet_labels <- c(\"p.mean\" = \"Mean (Integrated Profile)\", \n",
    "                  \"p.sd\" = \"Standard Deviation (Integrated Profile)\", \n",
    "                  \"p.kurt\" = \"Excessive Kurtosis (Integrated Profile)\", \n",
    "                  \"p.skew\" = \"Skewness (Integrated Profile)\",\n",
    "                  \"c.mean\" = \"Mean (DM-SNR Curve)\", \n",
    "                  \"c.sd\" = \"Standard Deviation (DM-SNR Curve)\", \n",
    "                  \"c.kurt\" = \"Excessive Kurtosis (DM-SNR Curve)\", \n",
    "                  \"c.skew\" = \"Skewness (DM-SNR Curve)\")\n",
    "\n",
    "ggplot(histo_data, aes(x = vals, fill = as_factor(class), color = as_factor(class))) +\n",
    "    geom_histogram(alpha = 0.5, position = \"identity\", bins = 30) +\n",
    "    facet_wrap(vars(preds), nrow = 4, ncol = 2,\n",
    "               scales = \"free\", \n",
    "               labeller = as_labeller(facet_labels)) +\n",
    "    labs(x = \"Value\", y = \"Count\", fill = \"Class\", color = \"Class\") +\n",
    "    scale_fill_discrete(labels = c(\"Non-pulsar\", \"Pulsar\")) +\n",
    "    scale_color_discrete(labels = c(\"Non-pulsar\", \"Pulsar\")) +\n",
    "    theme(text = element_text(size=18))"
   ]
  },
  {
   "cell_type": "markdown",
   "id": "5e885f3d-9184-4d6e-89dc-e03887422ea7",
   "metadata": {},
   "source": [
    "The plots show that most values do not have a significant overlap for pulsars and non-pulsars, and thus all of them would be useful for data analysis."
   ]
  }
 ],
 "metadata": {
  "kernelspec": {
   "display_name": "R",
   "language": "R",
   "name": "ir"
  },
  "language_info": {
   "codemirror_mode": "r",
   "file_extension": ".r",
   "mimetype": "text/x-r-source",
   "name": "R",
   "pygments_lexer": "r",
   "version": "4.1.3"
  }
 },
 "nbformat": 4,
 "nbformat_minor": 5
}
